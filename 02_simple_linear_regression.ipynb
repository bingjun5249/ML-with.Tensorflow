{
  "nbformat": 4,
  "nbformat_minor": 0,
  "metadata": {
    "colab": {
      "name": "02-simple linear regression.ipynb",
      "provenance": [],
      "collapsed_sections": [],
      "authorship_tag": "ABX9TyNoQMOyzzQ+YCZv8bjwxBcF",
      "include_colab_link": true
    },
    "kernelspec": {
      "name": "python3",
      "display_name": "Python 3"
    }
  },
  "cells": [
    {
      "cell_type": "markdown",
      "metadata": {
        "id": "view-in-github",
        "colab_type": "text"
      },
      "source": [
        "<a href=\"https://colab.research.google.com/github/bingjun5249/MLwith.Tensorflow/blob/main/02_simple_linear_regression.ipynb\" target=\"_parent\"><img src=\"https://colab.research.google.com/assets/colab-badge.svg\" alt=\"Open In Colab\"/></a>"
      ]
    },
    {
      "cell_type": "code",
      "metadata": {
        "id": "vF_lcDC4FJkM"
      },
      "source": [
        "import tensorflow as tf"
      ],
      "execution_count": null,
      "outputs": []
    },
    {
      "cell_type": "code",
      "metadata": {
        "id": "JE5yQU7sFe9p"
      },
      "source": [
        "x_data = [1,2,3,4,5]\r\n",
        "y_data = [1,2,3,4,5]\r\n",
        "\r\n",
        "W = tf.Variable(2,9)\r\n",
        "b = tf.Variable(0.5)\r\n",
        "\r\n",
        "# hypothesis = W * x + b\r\n",
        "hypothesis = W * x_data + b\r\n",
        "\r\n",
        "cost = tf.reduce_mean(tf.square(hypothesis - y_data))\r\n",
        "# tf.reduce_mean() : 차원을 제거하고 평균 계산\r\n",
        "# tf.square() : 제곱"
      ],
      "execution_count": null,
      "outputs": []
    },
    {
      "cell_type": "code",
      "metadata": {
        "id": "OgszQMH6Gbb_"
      },
      "source": [
        "# Gradient descent (경사 하강 알고리즘 : cost를 최소화하는 알고리즘)\r\n",
        "\r\n",
        "# Learning_rate initialize\r\n",
        "learning_rate = 0.01\r\n",
        "\r\n",
        "# Gradient descent\r\n",
        "with tf.GradientTape() as tape:\r\n",
        "  hypothesis = W * x_data + b\r\n",
        "  cost = tf.reduce_mean(tf.square(hypothesis - y_data))\r\n",
        "\r\n",
        "W_grad, b_grad = tape.gradient(cost, [W, b])\r\n",
        "\r\n",
        "W.assign_sub(learning_rate * W_grad)\r\n",
        "b.assign_sub(learning_rate * b_grad)    # assign_sub( -= 와 같은 효과)"
      ],
      "execution_count": null,
      "outputs": []
    },
    {
      "cell_type": "markdown",
      "metadata": {
        "id": "oNueQNy-ISUI"
      },
      "source": [
        "### Full code"
      ]
    },
    {
      "cell_type": "code",
      "metadata": {
        "colab": {
          "base_uri": "https://localhost:8080/"
        },
        "id": "LerlmiL8IUK5",
        "outputId": "b554ff6d-17d9-49c9-f74a-54d2f05234b0"
      },
      "source": [
        "import tensorflow as tf\r\n",
        "\r\n",
        "# Data\r\n",
        "x_data = [1, 2, 3, 4, 5]\r\n",
        "y_data = [1, 2, 3, 4, 5]\r\n",
        "\r\n",
        "# W, b initialize\r\n",
        "W = tf.Variable(2.9)\r\n",
        "b = tf.Variable(0.5)\r\n",
        "\r\n",
        "learning_rate = 0.01\r\n",
        "\r\n",
        "for i in range(100+1): # W, b update\r\n",
        "  # Gradient descent\r\n",
        "  with tf.GradientTape() as tape:\r\n",
        "    hypothesis = W * x_data + b\r\n",
        "    cost = tf.reduce_mean(tf.square(hypothesis - y_data))\r\n",
        "\r\n",
        "  W_grad, b_grad = tape.gradient(cost, [W, b])\r\n",
        "  W.assign_sub(learning_rate * W_grad)\r\n",
        "  b.assign_sub(learning_rate * b_grad) \r\n",
        "  if i % 10 == 0:\r\n",
        "    print(\"{:5}|{:10.4f}|{:10.4}|{:10.6f}\".format(i, W.numpy(), b.numpy(), cost))"
      ],
      "execution_count": null,
      "outputs": [
        {
          "output_type": "stream",
          "text": [
            "    0|    2.4520|     0.376| 45.660004\n",
            "   10|    1.1036|  0.003398|  0.206336\n",
            "   20|    1.0128|  -0.02091|  0.001026\n",
            "   30|    1.0065|  -0.02184|  0.000093\n",
            "   40|    1.0059|  -0.02123|  0.000083\n",
            "   50|    1.0057|  -0.02053|  0.000077\n",
            "   60|    1.0055|  -0.01984|  0.000072\n",
            "   70|    1.0053|  -0.01918|  0.000067\n",
            "   80|    1.0051|  -0.01854|  0.000063\n",
            "   90|    1.0050|  -0.01793|  0.000059\n",
            "  100|    1.0048|  -0.01733|  0.000055\n"
          ],
          "name": "stdout"
        }
      ]
    },
    {
      "cell_type": "code",
      "metadata": {
        "colab": {
          "base_uri": "https://localhost:8080/"
        },
        "id": "YmwuDi0wJv0G",
        "outputId": "344e05fc-9a31-484e-a3f9-3837264a6869"
      },
      "source": [
        "print(W*5+b)\r\n",
        "print(W*2.5+b)"
      ],
      "execution_count": null,
      "outputs": [
        {
          "output_type": "stream",
          "text": [
            "tf.Tensor(5.00667, shape=(), dtype=float32)\n",
            "tf.Tensor(2.4946702, shape=(), dtype=float32)\n"
          ],
          "name": "stdout"
        }
      ]
    }
  ]
}
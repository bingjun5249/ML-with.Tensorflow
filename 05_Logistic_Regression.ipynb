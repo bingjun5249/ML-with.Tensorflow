{
  "nbformat": 4,
  "nbformat_minor": 0,
  "metadata": {
    "colab": {
      "name": "05-Logistic Regression.ipynb",
      "provenance": [],
      "collapsed_sections": [],
      "authorship_tag": "ABX9TyPWO8Ls5RSj00qAh4KgGKbz",
      "include_colab_link": true
    },
    "kernelspec": {
      "name": "python3",
      "display_name": "Python 3"
    }
  },
  "cells": [
    {
      "cell_type": "markdown",
      "metadata": {
        "id": "view-in-github",
        "colab_type": "text"
      },
      "source": [
        "<a href=\"https://colab.research.google.com/github/bingjun5249/MLwith.Tensorflow/blob/main/05_Logistic_Regression.ipynb\" target=\"_parent\"><img src=\"https://colab.research.google.com/assets/colab-badge.svg\" alt=\"Open In Colab\"/></a>"
      ]
    },
    {
      "cell_type": "code",
      "metadata": {
        "id": "AD7QLgh9riHJ"
      },
      "source": [
        "import tensorflow as tf\r\n",
        "import numpy as np"
      ],
      "execution_count": null,
      "outputs": []
    },
    {
      "cell_type": "code",
      "metadata": {
        "id": "1QKNYoO6wbGN"
      },
      "source": [
        "# data\r\n",
        "x_train = np.array([[1., 1.],\r\n",
        "           [2., 3.],\r\n",
        "           [3., 1.],\r\n",
        "           [4., 3.],\r\n",
        "           [5., 3.],\r\n",
        "           [6., 2.]], dtype=np.float32)\r\n",
        "y_train = np.array([[0.],\r\n",
        "           [0.],\r\n",
        "           [0.],\r\n",
        "           [1.],\r\n",
        "           [1.],\r\n",
        "           [1.],], dtype=np.float32)\r\n",
        "\r\n",
        "x_test = np.array([[5.,2.]], dtype=np.float32)\r\n",
        "y_test = np.array([[1.]], dtype=np.float32)"
      ],
      "execution_count": null,
      "outputs": []
    },
    {
      "cell_type": "code",
      "metadata": {
        "id": "i4VQYjvO4H8h"
      },
      "source": [
        "dataset = tf.data.Dataset.from_tensor_slices((x_train, y_train)).batch(len(x_train))\r\n",
        "W = tf.Variable(tf.zeros([2,1]), name='weight')\r\n",
        "b = tf.Variable(tf.zeros([1]), name='bias')"
      ],
      "execution_count": null,
      "outputs": []
    },
    {
      "cell_type": "code",
      "metadata": {
        "colab": {
          "base_uri": "https://localhost:8080/"
        },
        "id": "RkDKyWe74uWB",
        "outputId": "c5d5f3c7-0ed6-4e46-db16-32cef8c6711a"
      },
      "source": [
        "# 원소의 자료구조 변환\r\n",
        "dataset.element_spec"
      ],
      "execution_count": null,
      "outputs": [
        {
          "output_type": "execute_result",
          "data": {
            "text/plain": [
              "(TensorSpec(shape=(None, 2), dtype=tf.float32, name=None),\n",
              " TensorSpec(shape=(None, 1), dtype=tf.float32, name=None))"
            ]
          },
          "metadata": {
            "tags": []
          },
          "execution_count": 10
        }
      ]
    },
    {
      "cell_type": "code",
      "metadata": {
        "id": "UcexnQWQE0BL"
      },
      "source": [
        "def logistic_regression(features):\r\n",
        "  hypothesis = tf.sigmoid(tf.matmul(features, W) + b)\r\n",
        "  return hypothesis"
      ],
      "execution_count": null,
      "outputs": []
    },
    {
      "cell_type": "code",
      "metadata": {
        "id": "kezbUVPvFAyk"
      },
      "source": [
        "def loss_fn(features, labels):\r\n",
        "  hypothesis = logistic_regression(features)\r\n",
        "  cost = -tf.reduce_mean(labels * tf.math.log(hypothesis)\r\n",
        "   + (1 - labels) * tf.math.log(1 - hypothesis))\r\n",
        "  return cost"
      ],
      "execution_count": null,
      "outputs": []
    },
    {
      "cell_type": "code",
      "metadata": {
        "id": "mHv9aAEdFYAj"
      },
      "source": [
        "def grad(features, labels):\r\n",
        "  with tf.GradientTape() as tape:\r\n",
        "    loss_value = loss_fn(features, labels)\r\n",
        "  return tape.gradient(loss_value, [W,b])"
      ],
      "execution_count": null,
      "outputs": []
    },
    {
      "cell_type": "code",
      "metadata": {
        "id": "qq88mDaxFqFp"
      },
      "source": [
        "# optimizer\r\n",
        "optimizer = tf.keras.optimizers.SGD(learning_rate=0.01)"
      ],
      "execution_count": null,
      "outputs": []
    },
    {
      "cell_type": "code",
      "metadata": {
        "colab": {
          "base_uri": "https://localhost:8080/"
        },
        "id": "9c039gSuF0b5",
        "outputId": "e420f531-d648-4a87-815f-14bc27a12fbf"
      },
      "source": [
        "EPOCHS = 3000\r\n",
        "\r\n",
        "for step in range(EPOCHS + 1):\r\n",
        "  for features, labels in iter(dataset):\r\n",
        "    hypothesis = logistic_regression(features)\r\n",
        "    grads = grad(features, labels)\r\n",
        "    optimizer.apply_gradients(grads_and_vars=zip(grads, [W, b]))\r\n",
        "    if step % 300 ==0:\r\n",
        "      print(\"Iter : {}, Loss : {:.4f}\".format(step, loss_fn(features, labels)))\r\n",
        "      # print(hypothesis)"
      ],
      "execution_count": null,
      "outputs": [
        {
          "output_type": "stream",
          "text": [
            "Iter : 0, Loss : 0.1947\n",
            "Iter : 300, Loss : 0.1889\n",
            "Iter : 600, Loss : 0.1835\n",
            "Iter : 900, Loss : 0.1784\n",
            "Iter : 1200, Loss : 0.1735\n",
            "Iter : 1500, Loss : 0.1690\n",
            "Iter : 1800, Loss : 0.1647\n",
            "Iter : 2100, Loss : 0.1606\n",
            "Iter : 2400, Loss : 0.1567\n",
            "Iter : 2700, Loss : 0.1531\n",
            "Iter : 3000, Loss : 0.1495\n"
          ],
          "name": "stdout"
        }
      ]
    },
    {
      "cell_type": "code",
      "metadata": {
        "id": "m-9j6lQHGAH8"
      },
      "source": [
        "def accuracy_fn(hypothesis, labels):\r\n",
        "  predicted = tf.cast(hypothesis > 0.5, dtype=tf.float32)\r\n",
        "  accuracy = tf.reduce_mean(tf.cast(tf.equal(predicted, labels), dtype=tf.int32))\r\n",
        "  return accuracy"
      ],
      "execution_count": null,
      "outputs": []
    },
    {
      "cell_type": "code",
      "metadata": {
        "colab": {
          "base_uri": "https://localhost:8080/"
        },
        "id": "97pevLwoHFIp",
        "outputId": "29b573c4-5311-4d1d-9b15-10c7e28ea192"
      },
      "source": [
        "test_acc = accuracy_fn(logistic_regression(x_test), y_test)\r\n",
        "print('Accuracy : {}%'.format(test_acc * 100))"
      ],
      "execution_count": null,
      "outputs": [
        {
          "output_type": "stream",
          "text": [
            "Accuracy : 100%\n"
          ],
          "name": "stdout"
        }
      ]
    },
    {
      "cell_type": "code",
      "metadata": {
        "id": "hbAulCfcHQy_"
      },
      "source": [
        ""
      ],
      "execution_count": null,
      "outputs": []
    }
  ]
}